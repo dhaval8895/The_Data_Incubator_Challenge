{
 "cells": [
  {
   "cell_type": "markdown",
   "metadata": {},
   "source": [
    "# Consumer Financial Protection Bureau - Consumer Complaints\n",
    "## Exploratory Data Analysis - Part 2"
   ]
  },
  {
   "cell_type": "markdown",
   "metadata": {},
   "source": [
    "### Loading required Libraries"
   ]
  },
  {
   "cell_type": "code",
   "execution_count": 33,
   "metadata": {},
   "outputs": [],
   "source": [
    "library(readr)\n",
    "library(dplyr)\n",
    "library(ggplot2)\n",
    "library(quanteda)\n",
    "library(RColorBrewer)\n",
    "library(wordcloud)\n",
    "library(openxlsx)\n",
    "library(datasets)"
   ]
  },
  {
   "cell_type": "markdown",
   "metadata": {},
   "source": [
    "### Loading the data set"
   ]
  },
  {
   "cell_type": "code",
   "execution_count": 34,
   "metadata": {},
   "outputs": [
    {
     "name": "stderr",
     "output_type": "stream",
     "text": [
      "Parsed with column specification:\n",
      "cols(\n",
      "  complaint_id = col_integer(),\n",
      "  date_received = col_datetime(format = \"\"),\n",
      "  date_sent_to_company = col_datetime(format = \"\"),\n",
      "  company = col_character(),\n",
      "  product = col_character(),\n",
      "  sub_product = col_character(),\n",
      "  issue = col_character(),\n",
      "  submitted_via = col_character(),\n",
      "  company_public_response = col_character(),\n",
      "  state = col_character(),\n",
      "  zip_code = col_character(),\n",
      "  company_response = col_character(),\n",
      "  consumer_disputed = col_character(),\n",
      "  sub_issue = col_character(),\n",
      "  complaint_what_happened = col_character(),\n",
      "  consumer_consent_provided = col_character(),\n",
      "  timely = col_character(),\n",
      "  tags = col_character()\n",
      ")\n"
     ]
    },
    {
     "name": "stdout",
     "output_type": "stream",
     "text": [
      "|=================================================================| 100%  576 MB\n",
      "Observations: 1,078,137\n",
      "Variables: 18\n",
      "$ complaint_id              <int> 14372, 1216062, 1357172, 1770766, 868283,...\n",
      "$ date_received             <dttm> 2012-01-17, 2015-01-29, 2015-05-01, 2016...\n",
      "$ date_sent_to_company      <dttm> 2012-01-20, 2015-01-29, 2015-05-01, 2016...\n",
      "$ company                   <chr> \"JPMORGAN CHASE & CO.\", \"RFNA, LP\", \"BANK...\n",
      "$ product                   <chr> \"Mortgage\", \"Debt collection\", \"Mortgage\"...\n",
      "$ sub_product               <chr> \"Conventional fixed mortgage\", \"Other (i....\n",
      "$ issue                     <chr> \"Loan modification,collection,foreclosure...\n",
      "$ submitted_via             <chr> \"Phone\", \"Web\", \"Web\", \"Fax\", \"Web\", \"Ref...\n",
      "$ company_public_response   <chr> NA, NA, NA, NA, NA, \"Company chooses not ...\n",
      "$ state                     <chr> \"CA\", \"SC\", \"PA\", \"MD\", \"CA\", \"VA\", \"PA\",...\n",
      "$ zip_code                  <chr> \"94404\", \"29657\", \"15063\", \"21239\", \"9211...\n",
      "$ company_response          <chr> \"Closed without relief\", \"Closed with exp...\n",
      "$ consumer_disputed         <chr> \"No\", \"Yes\", \"No\", \"Yes\", \"No\", \"No\", \"No...\n",
      "$ sub_issue                 <chr> NA, \"Indicated shouldn't respond to lawsu...\n",
      "$ complaint_what_happened   <chr> NA, NA, NA, NA, NA, NA, NA, NA, \"Citi is ...\n",
      "$ consumer_consent_provided <chr> NA, NA, \"Consent not provided\", NA, NA, N...\n",
      "$ timely                    <chr> \"Yes\", \"Yes\", \"Yes\", \"Yes\", \"Yes\", \"Yes\",...\n",
      "$ tags                      <chr> \"Older American\", NA, NA, NA, NA, NA, \"Ol...\n"
     ]
    }
   ],
   "source": [
    "data <- read_csv(\"cc.csv\", na = c(\"NA\", \"N/A\", NULL, \"\"), progress = TRUE)\n",
    "glimpse(data)"
   ]
  },
  {
   "cell_type": "markdown",
   "metadata": {},
   "source": [
    "#### Exploring the Relationship between complaints and S&P500 Index as well as Down Jones Industrial Average"
   ]
  },
  {
   "cell_type": "markdown",
   "metadata": {},
   "source": [
    "S&P500 and DJIA are the two very famous Index which map the latest scenario of the stock market. S&P500 comprises of a moving average of 500 companies where as DJIA comprises of a mathematical smoothing of 30 big companies of the US.\n",
    "\n",
    "The key identifier which links these indexes (I think!) is the fact that the major companies that are included in S&P500 and DJIA are financial in nature and have to do with Loans, Credit services, Mortgages, Debt Collections etc.\n",
    "\n",
    "Hence, if we are able to find out any trivial relationships between specific product complaints and the fluctuations in these indexes, we would be able to conculde a good identifier for predicting the Complaints a company can have in coming future. This edge, can help the company modify its customer relationships and eventually will help the company deliver a better experience to the consumer."
   ]
  },
  {
   "cell_type": "markdown",
   "metadata": {},
   "source": [
    "To begin with,\n",
    "\n",
    "    1. Found out the Total Complaints between Year 2015 to 2017\n",
    "    2. Filtered Mortgages, Vehical loans and Credit Card related issues"
   ]
  },
  {
   "cell_type": "code",
   "execution_count": 35,
   "metadata": {},
   "outputs": [
    {
     "data": {
      "text/html": [
       "<table>\n",
       "<thead><tr><th scope=col>Year</th><th scope=col>Month</th><th scope=col>Total_Complaints</th></tr></thead>\n",
       "<tbody>\n",
       "\t<tr><td>2015 </td><td>1    </td><td>12629</td></tr>\n",
       "\t<tr><td>2015 </td><td>2    </td><td>12684</td></tr>\n",
       "\t<tr><td>2015 </td><td>3    </td><td>14519</td></tr>\n",
       "\t<tr><td>2015 </td><td>4    </td><td>13758</td></tr>\n",
       "\t<tr><td>2015 </td><td>5    </td><td>13687</td></tr>\n",
       "\t<tr><td>2015 </td><td>6    </td><td>14519</td></tr>\n",
       "</tbody>\n",
       "</table>\n"
      ],
      "text/latex": [
       "\\begin{tabular}{r|lll}\n",
       " Year & Month & Total\\_Complaints\\\\\n",
       "\\hline\n",
       "\t 2015  & 1     & 12629\\\\\n",
       "\t 2015  & 2     & 12684\\\\\n",
       "\t 2015  & 3     & 14519\\\\\n",
       "\t 2015  & 4     & 13758\\\\\n",
       "\t 2015  & 5     & 13687\\\\\n",
       "\t 2015  & 6     & 14519\\\\\n",
       "\\end{tabular}\n"
      ],
      "text/markdown": [
       "\n",
       "Year | Month | Total_Complaints | \n",
       "|---|---|---|---|---|---|\n",
       "| 2015  | 1     | 12629 | \n",
       "| 2015  | 2     | 12684 | \n",
       "| 2015  | 3     | 14519 | \n",
       "| 2015  | 4     | 13758 | \n",
       "| 2015  | 5     | 13687 | \n",
       "| 2015  | 6     | 14519 | \n",
       "\n",
       "\n"
      ],
      "text/plain": [
       "  Year Month Total_Complaints\n",
       "1 2015 1     12629           \n",
       "2 2015 2     12684           \n",
       "3 2015 3     14519           \n",
       "4 2015 4     13758           \n",
       "5 2015 5     13687           \n",
       "6 2015 6     14519           "
      ]
     },
     "metadata": {},
     "output_type": "display_data"
    }
   ],
   "source": [
    "data_c <- data\n",
    "data_c$Year <- lubridate::year(data_c$date_received)\n",
    "data_c$Month <- lubridate::month(data_c$date_received)#, label = TRUE)\n",
    "data_cc <- data_c %>% group_by(Year, Month) %>% summarise(Total_Complaints = n()) %>%\n",
    "  filter(Year >= 2015 & Year <= 2017)\n",
    "head(data_cc)"
   ]
  },
  {
   "cell_type": "code",
   "execution_count": 36,
   "metadata": {},
   "outputs": [
    {
     "data": {
      "text/html": [
       "<table>\n",
       "<thead><tr><th scope=col>Year</th><th scope=col>Month</th><th scope=col>Total_Complaints</th><th scope=col>Proportion.of.Total</th></tr></thead>\n",
       "<tbody>\n",
       "\t<tr><td>2015     </td><td>1        </td><td>4152     </td><td>0.3287671</td></tr>\n",
       "\t<tr><td>2015     </td><td>2        </td><td>4445     </td><td>0.3504415</td></tr>\n",
       "\t<tr><td>2015     </td><td>3        </td><td>5019     </td><td>0.3456850</td></tr>\n",
       "\t<tr><td>2015     </td><td>4        </td><td>5021     </td><td>0.3649513</td></tr>\n",
       "\t<tr><td>2015     </td><td>5        </td><td>5046     </td><td>0.3686710</td></tr>\n",
       "\t<tr><td>2015     </td><td>6        </td><td>5407     </td><td>0.3724086</td></tr>\n",
       "</tbody>\n",
       "</table>\n"
      ],
      "text/latex": [
       "\\begin{tabular}{r|llll}\n",
       " Year & Month & Total\\_Complaints & Proportion.of.Total\\\\\n",
       "\\hline\n",
       "\t 2015      & 1         & 4152      & 0.3287671\\\\\n",
       "\t 2015      & 2         & 4445      & 0.3504415\\\\\n",
       "\t 2015      & 3         & 5019      & 0.3456850\\\\\n",
       "\t 2015      & 4         & 5021      & 0.3649513\\\\\n",
       "\t 2015      & 5         & 5046      & 0.3686710\\\\\n",
       "\t 2015      & 6         & 5407      & 0.3724086\\\\\n",
       "\\end{tabular}\n"
      ],
      "text/markdown": [
       "\n",
       "Year | Month | Total_Complaints | Proportion.of.Total | \n",
       "|---|---|---|---|---|---|\n",
       "| 2015      | 1         | 4152      | 0.3287671 | \n",
       "| 2015      | 2         | 4445      | 0.3504415 | \n",
       "| 2015      | 3         | 5019      | 0.3456850 | \n",
       "| 2015      | 4         | 5021      | 0.3649513 | \n",
       "| 2015      | 5         | 5046      | 0.3686710 | \n",
       "| 2015      | 6         | 5407      | 0.3724086 | \n",
       "\n",
       "\n"
      ],
      "text/plain": [
       "  Year Month Total_Complaints Proportion.of.Total\n",
       "1 2015 1     4152             0.3287671          \n",
       "2 2015 2     4445             0.3504415          \n",
       "3 2015 3     5019             0.3456850          \n",
       "4 2015 4     5021             0.3649513          \n",
       "5 2015 5     5046             0.3686710          \n",
       "6 2015 6     5407             0.3724086          "
      ]
     },
     "metadata": {},
     "output_type": "display_data"
    }
   ],
   "source": [
    "indexes <- c(\"Mortgage\", \"Vehicle loan or lease\", \"Credit card\")\n",
    "data_i <- data %>% filter(product %in% indexes)\n",
    "data_i$Year <- lubridate::year(data_i$date_received)\n",
    "data_i$Month <- lubridate::month(data_i$date_received)#, label = TRUE)\n",
    "data_ii <- data_i %>% group_by(Year, Month) %>% summarise(Total_Complaints = n()) %>%\n",
    "  filter(Year >= 2015 & Year <= 2017)\n",
    "data_ii$Proportion.of.Total <- data_ii$Total_Complaints / data_cc$Total_Complaints\n",
    "head(data_ii)"
   ]
  },
  {
   "cell_type": "markdown",
   "metadata": {},
   "source": [
    "#### Reading the DJIA and S&P500 data"
   ]
  },
  {
   "cell_type": "code",
   "execution_count": 37,
   "metadata": {},
   "outputs": [
    {
     "name": "stderr",
     "output_type": "stream",
     "text": [
      "Warning message in eval(expr, envir, enclos):\n",
      "\"NAs introduced by coercion\""
     ]
    },
    {
     "data": {
      "text/html": [
       "<table>\n",
       "<thead><tr><th scope=col>Year</th><th scope=col>Month</th><th scope=col>Avg</th></tr></thead>\n",
       "<tbody>\n",
       "\t<tr><td>2015    </td><td>1       </td><td>2028.178</td></tr>\n",
       "\t<tr><td>2015    </td><td>2       </td><td>2082.196</td></tr>\n",
       "\t<tr><td>2015    </td><td>3       </td><td>2079.990</td></tr>\n",
       "\t<tr><td>2015    </td><td>4       </td><td>2094.863</td></tr>\n",
       "\t<tr><td>2015    </td><td>5       </td><td>2111.943</td></tr>\n",
       "\t<tr><td>2015    </td><td>6       </td><td>2099.284</td></tr>\n",
       "</tbody>\n",
       "</table>\n"
      ],
      "text/latex": [
       "\\begin{tabular}{r|lll}\n",
       " Year & Month & Avg\\\\\n",
       "\\hline\n",
       "\t 2015     & 1        & 2028.178\\\\\n",
       "\t 2015     & 2        & 2082.196\\\\\n",
       "\t 2015     & 3        & 2079.990\\\\\n",
       "\t 2015     & 4        & 2094.863\\\\\n",
       "\t 2015     & 5        & 2111.943\\\\\n",
       "\t 2015     & 6        & 2099.284\\\\\n",
       "\\end{tabular}\n"
      ],
      "text/markdown": [
       "\n",
       "Year | Month | Avg | \n",
       "|---|---|---|---|---|---|\n",
       "| 2015     | 1        | 2028.178 | \n",
       "| 2015     | 2        | 2082.196 | \n",
       "| 2015     | 3        | 2079.990 | \n",
       "| 2015     | 4        | 2094.863 | \n",
       "| 2015     | 5        | 2111.943 | \n",
       "| 2015     | 6        | 2099.284 | \n",
       "\n",
       "\n"
      ],
      "text/plain": [
       "  Year Month Avg     \n",
       "1 2015 1     2028.178\n",
       "2 2015 2     2082.196\n",
       "3 2015 3     2079.990\n",
       "4 2015 4     2094.863\n",
       "5 2015 5     2111.943\n",
       "6 2015 6     2099.284"
      ]
     },
     "metadata": {},
     "output_type": "display_data"
    }
   ],
   "source": [
    "spi <- read.csv(\"SP500.csv\")\n",
    "spi$SP500 <- as.numeric(as.character(spi$SP500))\n",
    "spi$Month <- lubridate::month(spi$DATE)\n",
    "spi$Year <- lubridate::year(spi$DATE)\n",
    "spi <- spi %>% filter(Year >= 2015 & Year <= 2017)\n",
    "spi_new <- spi %>% group_by(Year, Month) %>% summarise(Avg = mean(SP500, na.rm = TRUE))\n",
    "head(spi_new)"
   ]
  },
  {
   "cell_type": "code",
   "execution_count": 38,
   "metadata": {},
   "outputs": [
    {
     "name": "stderr",
     "output_type": "stream",
     "text": [
      "Warning message in eval(expr, envir, enclos):\n",
      "\"NAs introduced by coercion\""
     ]
    },
    {
     "data": {
      "text/html": [
       "<table>\n",
       "<thead><tr><th scope=col>Year</th><th scope=col>Month</th><th scope=col>Avg_DJIA</th></tr></thead>\n",
       "<tbody>\n",
       "\t<tr><td>2015    </td><td>1       </td><td>17542.26</td></tr>\n",
       "\t<tr><td>2015    </td><td>2       </td><td>17945.41</td></tr>\n",
       "\t<tr><td>2015    </td><td>3       </td><td>17931.74</td></tr>\n",
       "\t<tr><td>2015    </td><td>4       </td><td>17970.51</td></tr>\n",
       "\t<tr><td>2015    </td><td>5       </td><td>18124.71</td></tr>\n",
       "\t<tr><td>2015    </td><td>6       </td><td>17927.22</td></tr>\n",
       "</tbody>\n",
       "</table>\n"
      ],
      "text/latex": [
       "\\begin{tabular}{r|lll}\n",
       " Year & Month & Avg\\_DJIA\\\\\n",
       "\\hline\n",
       "\t 2015     & 1        & 17542.26\\\\\n",
       "\t 2015     & 2        & 17945.41\\\\\n",
       "\t 2015     & 3        & 17931.74\\\\\n",
       "\t 2015     & 4        & 17970.51\\\\\n",
       "\t 2015     & 5        & 18124.71\\\\\n",
       "\t 2015     & 6        & 17927.22\\\\\n",
       "\\end{tabular}\n"
      ],
      "text/markdown": [
       "\n",
       "Year | Month | Avg_DJIA | \n",
       "|---|---|---|---|---|---|\n",
       "| 2015     | 1        | 17542.26 | \n",
       "| 2015     | 2        | 17945.41 | \n",
       "| 2015     | 3        | 17931.74 | \n",
       "| 2015     | 4        | 17970.51 | \n",
       "| 2015     | 5        | 18124.71 | \n",
       "| 2015     | 6        | 17927.22 | \n",
       "\n",
       "\n"
      ],
      "text/plain": [
       "  Year Month Avg_DJIA\n",
       "1 2015 1     17542.26\n",
       "2 2015 2     17945.41\n",
       "3 2015 3     17931.74\n",
       "4 2015 4     17970.51\n",
       "5 2015 5     18124.71\n",
       "6 2015 6     17927.22"
      ]
     },
     "metadata": {},
     "output_type": "display_data"
    }
   ],
   "source": [
    "dji <- read.csv(\"DJIA.csv\")\n",
    "dji$DJIA <- as.numeric(as.character(dji$DJIA))\n",
    "dji$Month <- lubridate::month(dji$DATE)\n",
    "dji$Year <- lubridate::year(dji$DATE)\n",
    "dji <- dji %>% filter(Year >= 2015 & Year <= 2017)\n",
    "dji_new <- dji %>% group_by(Year, Month) %>% summarise(Avg_DJIA = mean(DJIA, na.rm = TRUE))\n",
    "head(dji_new)"
   ]
  },
  {
   "cell_type": "markdown",
   "metadata": {},
   "source": [
    "#### Combinig S&P500 and DJIA data with Total mumber of Complaints received for select product complaints"
   ]
  },
  {
   "cell_type": "code",
   "execution_count": 39,
   "metadata": {},
   "outputs": [
    {
     "data": {
      "text/html": [
       "<table>\n",
       "<thead><tr><th scope=col>Year</th><th scope=col>Month</th><th scope=col>Total_Complaints</th><th scope=col>Proportion.of.Total</th><th scope=col>SP500</th><th scope=col>Time</th><th scope=col>DJIA</th></tr></thead>\n",
       "<tbody>\n",
       "\t<tr><td>2015     </td><td>1        </td><td>4152     </td><td>0.3287671</td><td>2028.178 </td><td>1/2015   </td><td>17542.26 </td></tr>\n",
       "\t<tr><td>2015     </td><td>2        </td><td>4445     </td><td>0.3504415</td><td>2082.196 </td><td>2/2015   </td><td>17945.41 </td></tr>\n",
       "\t<tr><td>2015     </td><td>3        </td><td>5019     </td><td>0.3456850</td><td>2079.990 </td><td>3/2015   </td><td>17931.74 </td></tr>\n",
       "\t<tr><td>2015     </td><td>4        </td><td>5021     </td><td>0.3649513</td><td>2094.863 </td><td>4/2015   </td><td>17970.51 </td></tr>\n",
       "\t<tr><td>2015     </td><td>5        </td><td>5046     </td><td>0.3686710</td><td>2111.943 </td><td>5/2015   </td><td>18124.71 </td></tr>\n",
       "\t<tr><td>2015     </td><td>6        </td><td>5407     </td><td>0.3724086</td><td>2099.284 </td><td>6/2015   </td><td>17927.22 </td></tr>\n",
       "</tbody>\n",
       "</table>\n"
      ],
      "text/latex": [
       "\\begin{tabular}{r|lllllll}\n",
       " Year & Month & Total\\_Complaints & Proportion.of.Total & SP500 & Time & DJIA\\\\\n",
       "\\hline\n",
       "\t 2015      & 1         & 4152      & 0.3287671 & 2028.178  & 1/2015    & 17542.26 \\\\\n",
       "\t 2015      & 2         & 4445      & 0.3504415 & 2082.196  & 2/2015    & 17945.41 \\\\\n",
       "\t 2015      & 3         & 5019      & 0.3456850 & 2079.990  & 3/2015    & 17931.74 \\\\\n",
       "\t 2015      & 4         & 5021      & 0.3649513 & 2094.863  & 4/2015    & 17970.51 \\\\\n",
       "\t 2015      & 5         & 5046      & 0.3686710 & 2111.943  & 5/2015    & 18124.71 \\\\\n",
       "\t 2015      & 6         & 5407      & 0.3724086 & 2099.284  & 6/2015    & 17927.22 \\\\\n",
       "\\end{tabular}\n"
      ],
      "text/markdown": [
       "\n",
       "Year | Month | Total_Complaints | Proportion.of.Total | SP500 | Time | DJIA | \n",
       "|---|---|---|---|---|---|\n",
       "| 2015      | 1         | 4152      | 0.3287671 | 2028.178  | 1/2015    | 17542.26  | \n",
       "| 2015      | 2         | 4445      | 0.3504415 | 2082.196  | 2/2015    | 17945.41  | \n",
       "| 2015      | 3         | 5019      | 0.3456850 | 2079.990  | 3/2015    | 17931.74  | \n",
       "| 2015      | 4         | 5021      | 0.3649513 | 2094.863  | 4/2015    | 17970.51  | \n",
       "| 2015      | 5         | 5046      | 0.3686710 | 2111.943  | 5/2015    | 18124.71  | \n",
       "| 2015      | 6         | 5407      | 0.3724086 | 2099.284  | 6/2015    | 17927.22  | \n",
       "\n",
       "\n"
      ],
      "text/plain": [
       "  Year Month Total_Complaints Proportion.of.Total SP500    Time   DJIA    \n",
       "1 2015 1     4152             0.3287671           2028.178 1/2015 17542.26\n",
       "2 2015 2     4445             0.3504415           2082.196 2/2015 17945.41\n",
       "3 2015 3     5019             0.3456850           2079.990 3/2015 17931.74\n",
       "4 2015 4     5021             0.3649513           2094.863 4/2015 17970.51\n",
       "5 2015 5     5046             0.3686710           2111.943 5/2015 18124.71\n",
       "6 2015 6     5407             0.3724086           2099.284 6/2015 17927.22"
      ]
     },
     "metadata": {},
     "output_type": "display_data"
    }
   ],
   "source": [
    "data_ii$SP500 <- spi_new$Avg\n",
    "data_ii$Time <- paste0(data_ii$Month,\"/\",data_ii$Year)\n",
    "data_ii$DJIA <- dji_new$Avg_DJIA\n",
    "head(data_ii)"
   ]
  },
  {
   "cell_type": "markdown",
   "metadata": {},
   "source": [
    "##### Analyzing Correlations between S&P500 & DJIA with Complaints for Mortgage, Vehical Loan and Credit Card of the Total"
   ]
  },
  {
   "cell_type": "code",
   "execution_count": 40,
   "metadata": {},
   "outputs": [
    {
     "name": "stdout",
     "output_type": "stream",
     "text": [
      "[1] \"Correlation of S&P500 index with  Proportion of Total: -0.933300594213206\"\n"
     ]
    }
   ],
   "source": [
    "print(paste(\"Correlation of S&P500 index with  Proportion of Total:\",\n",
    "            cor(data_ii$Proportion.of.Total, data_ii$SP500)))"
   ]
  },
  {
   "cell_type": "code",
   "execution_count": 41,
   "metadata": {},
   "outputs": [
    {
     "name": "stdout",
     "output_type": "stream",
     "text": [
      "[1] \"Correlation of DJIA index with  Proportion of Total: -0.930559563305166\"\n"
     ]
    }
   ],
   "source": [
    "print(paste(\"Correlation of DJIA index with  Proportion of Total:\",\n",
    "            cor(data_ii$Proportion.of.Total, data_ii$DJIA)))"
   ]
  },
  {
   "cell_type": "markdown",
   "metadata": {},
   "source": [
    "The correlation between *S&P500 index with the Proportion of Complaints that include Mortgage,\n",
    "Auto Loans and Credit Card related issues* is found to be **-0.9333** which is a very high negative number. \n",
    "This shows their is a **negative relationship** between the S&P500 index and the proportion of Complaints that include Mortgages, auto loans and credit cards.\n",
    "\n",
    "Similarly, the correlation index for *DJIA with the Proportion of Complaints that include Mortgage,\n",
    "Auto Loans and Credit Card related issues* is found to be **-0.9305** which is also a very high number that shows evident proof of a **negative realtionship** between the DJIA index and the proportion of Complaints that include Mortgages, auto loans and credit cards.\n",
    "\n",
    "As DJIA and S&P500 moreover represent the same thing, the results are quite promising. There is a **strong proof of negative correaltion between the indexes and the Proportion of Total Complaints that inculde Mortgage, Auto Loans and Credit cards.**\n",
    "\n",
    "In other words, with ***increase in S&P500 index / DJIA, complaints for Mortgage, Auto Loans and Credit cards decreases.***"
   ]
  },
  {
   "cell_type": "markdown",
   "metadata": {},
   "source": [
    "#### Linear Regression on Proportion of Total with SP500"
   ]
  },
  {
   "cell_type": "code",
   "execution_count": 42,
   "metadata": {},
   "outputs": [
    {
     "data": {
      "text/plain": [
       "\n",
       "Call:\n",
       "lm(formula = Proportion.of.Total ~ SP500, data = data_ii)\n",
       "\n",
       "Residuals:\n",
       "      Min        1Q    Median        3Q       Max \n",
       "-0.065500 -0.021378  0.002529  0.021840  0.053553 \n",
       "\n",
       "Coefficients:\n",
       "              Estimate Std. Error t value Pr(>|t|)    \n",
       "(Intercept)  1.192e+00  6.012e-02   19.83   <2e-16 ***\n",
       "SP500       -4.124e-04  2.721e-05  -15.15   <2e-16 ***\n",
       "---\n",
       "Signif. codes:  0 '***' 0.001 '**' 0.01 '*' 0.05 '.' 0.1 ' ' 1\n",
       "\n",
       "Residual standard error: 0.03213 on 34 degrees of freedom\n",
       "Multiple R-squared:  0.871,\tAdjusted R-squared:  0.8673 \n",
       "F-statistic: 229.7 on 1 and 34 DF,  p-value: < 2.2e-16\n"
      ]
     },
     "metadata": {},
     "output_type": "display_data"
    }
   ],
   "source": [
    "model_sp <- lm(Proportion.of.Total ~ SP500, data = data_ii)\n",
    "summary(model_sp)\n",
    "p1 <- ggplot(data_ii, aes(SP500, Proportion.of.Total)) + geom_jitter(size = 2.5, alpha = 0.6, col = \"orange\") +\n",
    "  geom_smooth(stat = \"smooth\", method = \"lm\") + theme_light() + \n",
    "  ggtitle(\"Proportion of Complaints with Mortgage, Auto Loans, Credit Card vs SP500\",\n",
    "                subtitle = paste(\"Correlation:\", round(correlations_sp, 4)))"
   ]
  },
  {
   "cell_type": "markdown",
   "metadata": {},
   "source": [
    "#### Linear Regression on Proportion of Total with DJIA"
   ]
  },
  {
   "cell_type": "code",
   "execution_count": 43,
   "metadata": {},
   "outputs": [
    {
     "data": {
      "text/plain": [
       "\n",
       "Call:\n",
       "lm(formula = Proportion.of.Total ~ DJIA, data = data_ii)\n",
       "\n",
       "Residuals:\n",
       "      Min        1Q    Median        3Q       Max \n",
       "-0.068069 -0.018696 -0.004051  0.022760  0.057063 \n",
       "\n",
       "Coefficients:\n",
       "              Estimate Std. Error t value Pr(>|t|)    \n",
       "(Intercept)  1.012e+00  4.939e-02   20.50   <2e-16 ***\n",
       "DJIA        -3.813e-05  2.573e-06  -14.82   <2e-16 ***\n",
       "---\n",
       "Signif. codes:  0 '***' 0.001 '**' 0.01 '*' 0.05 '.' 0.1 ' ' 1\n",
       "\n",
       "Residual standard error: 0.03276 on 34 degrees of freedom\n",
       "Multiple R-squared:  0.8659,\tAdjusted R-squared:  0.862 \n",
       "F-statistic: 219.6 on 1 and 34 DF,  p-value: < 2.2e-16\n"
      ]
     },
     "metadata": {},
     "output_type": "display_data"
    }
   ],
   "source": [
    "model_djia <- lm(Proportion.of.Total ~ DJIA, data = data_ii)\n",
    "summary(model_djia)\n",
    "p2 <- ggplot(data_ii, aes(DJIA, Proportion.of.Total)) + geom_jitter(size = 2.5, alpha = 0.6, col = \"brown\") +\n",
    "  geom_smooth(stat = \"smooth\", method = \"lm\") + theme_light() +\n",
    "  ggtitle(\"Proportion of Complaints with Mortgage, Auto Loans, Credit Card vs DJIA\",\n",
    "          subtitle = paste(\"Correlation:\", round(correlations_djia, 4)))"
   ]
  },
  {
   "cell_type": "code",
   "execution_count": 44,
   "metadata": {},
   "outputs": [
    {
     "data": {
      "image/png": "[encoded data removed]",
      "text/plain": [
       "plot without title"
      ]
     },
     "metadata": {},
     "output_type": "display_data"
    }
   ],
   "source": [
    "options(repr.plot.width = 14, repr.plot.height = 6)\n",
    "gridExtra::grid.arrange(p1, p2, ncol = 2)"
   ]
  },
  {
   "cell_type": "markdown",
   "metadata": {},
   "source": [
    "### Conclusions\n",
    "\n",
    "    1. Correlation figures for Proportion of Total Complaints which were Mortgage, Auto loans and\n",
    "    Credit Card are strongly negative\n",
    "    \n",
    "    2. Linear regression provides rock solid evidence of the fact that Propotion of these complaints\n",
    "    are negatively affected by the S&P500 and DJIA index\n",
    "    \n",
    "    3. The above plot shows the Proportion of Total vs Indexes and a linear regression model line\n",
    "    passing through them. We can clearly identify, there is a strong inverse pattern between the two,\n",
    "    confirming the neagtive relationship\n",
    "    \n",
    "    4. P-value statistics for model_sp and model_djia is highly significant. Yet another proof of\n",
    "    the relationship between the two to be legitimate\n",
    "    \n",
    "    5. Found an indicator variable outside the parent data set which can be used to predict the proportion\n",
    "    of Total complaints for coming years. This information can help, companies deliver better to their\n",
    "    customers."
   ]
  }
 ],
 "metadata": {
  "kernelspec": {
   "display_name": "R",
   "language": "R",
   "name": "ir"
  },
  "language_info": {
   "codemirror_mode": "r",
   "file_extension": ".r",
   "mimetype": "text/x-r-source",
   "name": "R",
   "pygments_lexer": "r",
   "version": "3.4.3"
  }
 },
 "nbformat": 4,
 "nbformat_minor": 2
}
