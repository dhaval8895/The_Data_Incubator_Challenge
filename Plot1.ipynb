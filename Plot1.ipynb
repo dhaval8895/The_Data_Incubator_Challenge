{
 "cells": [
  {
   "cell_type": "markdown",
   "metadata": {},
   "source": [
    "# Consumer Financial Protection Bureau - Consumer Complaints\n",
    "## Exploratory Data Analysis"
   ]
  },
  {
   "cell_type": "markdown",
   "metadata": {},
   "source": [
    "### Loading required Libraries - Part 1"
   ]
  },
  {
   "cell_type": "code",
   "execution_count": 2,
   "metadata": {},
   "outputs": [],
   "source": [
    "library(readr)\n",
    "library(dplyr)\n",
    "library(ggplot2)\n",
    "library(quanteda)\n",
    "library(RColorBrewer)\n",
    "library(wordcloud)\n",
    "library(openxlsx)\n",
    "library(datasets)"
   ]
  },
  {
   "cell_type": "markdown",
   "metadata": {},
   "source": [
    "### Loading the data set"
   ]
  },
  {
   "cell_type": "code",
   "execution_count": 3,
   "metadata": {},
   "outputs": [
    {
     "name": "stderr",
     "output_type": "stream",
     "text": [
      "Parsed with column specification:\n",
      "cols(\n",
      "  complaint_id = col_integer(),\n",
      "  date_received = col_datetime(format = \"\"),\n",
      "  date_sent_to_company = col_datetime(format = \"\"),\n",
      "  company = col_character(),\n",
      "  product = col_character(),\n",
      "  sub_product = col_character(),\n",
      "  issue = col_character(),\n",
      "  submitted_via = col_character(),\n",
      "  company_public_response = col_character(),\n",
      "  state = col_character(),\n",
      "  zip_code = col_character(),\n",
      "  company_response = col_character(),\n",
      "  consumer_disputed = col_character(),\n",
      "  sub_issue = col_character(),\n",
      "  complaint_what_happened = col_character(),\n",
      "  consumer_consent_provided = col_character(),\n",
      "  timely = col_character(),\n",
      "  tags = col_character()\n",
      ")\n"
     ]
    },
    {
     "name": "stdout",
     "output_type": "stream",
     "text": [
      "|=================================================================| 100%  379 MB\n",
      "Observations: 831,000\n",
      "Variables: 18\n",
      "$ complaint_id              <int> 759217, 2141773, 2163100, 885638, 1027760...\n",
      "$ date_received             <dttm> 2014-03-12, 2016-10-01, 2016-10-17, 2014...\n",
      "$ date_sent_to_company      <dttm> 2014-03-17, 2016-10-05, 2016-10-20, 2014...\n",
      "$ company                   <chr> \"M&T BANK CORPORATION\", \"TRANSUNION INTER...\n",
      "$ product                   <chr> \"Mortgage\", \"Credit reporting\", \"Consumer...\n",
      "$ sub_product               <chr> \"Other mortgage\", NA, \"Vehicle loan\", NA,...\n",
      "$ issue                     <chr> \"Loan modification,collection,foreclosure...\n",
      "$ submitted_via             <chr> \"Referral\", \"Web\", \"Web\", \"Web\", \"Web\", \"...\n",
      "$ company_public_response   <chr> NA, \"Company has responded to the consume...\n",
      "$ state                     <chr> \"MI\", \"AL\", \"PA\", \"ID\", \"VA\", \"MN\", \"CA\",...\n",
      "$ zip_code                  <chr> \"48382\", \"352XX\", \"177XX\", \"83854\", \"2323...\n",
      "$ company_response          <chr> \"Closed with explanation\", \"Closed with e...\n",
      "$ consumer_disputed         <chr> \"No\", \"No\", \"No\", \"Yes\", \"Yes\", \"No\", \"No...\n",
      "$ sub_issue                 <chr> NA, \"Account status\", NA, NA, \"Frequent o...\n",
      "$ complaint_what_happened   <chr> NA, \"I have outdated information on my cr...\n",
      "$ consumer_consent_provided <chr> NA, \"Consent provided\", \"Consent provided...\n",
      "$ timely                    <chr> \"Yes\", \"Yes\", \"Yes\", \"Yes\", \"Yes\", \"Yes\",...\n",
      "$ tags                      <chr> NA, NA, \"Older American\", \"Older American...\n"
     ]
    }
   ],
   "source": [
    "data <- read_csv(\"cc.csv\", na = c(\"NA\", \"N/A\", NULL, \"\"), progress = TRUE)\n",
    "glimpse(data)"
   ]
  },
  {
   "cell_type": "markdown",
   "metadata": {},
   "source": [
    "#### Data benchmarks:\n",
    "\n",
    "##### 1. Size = 379 MB\n",
    "##### 2. Rows = 831000\n",
    "##### 3. Columns = 18"
   ]
  },
  {
   "cell_type": "markdown",
   "metadata": {},
   "source": [
    "### Cleaning and Munging data"
   ]
  },
  {
   "cell_type": "markdown",
   "metadata": {},
   "source": [
    "We find that a lot of variables belong to class factor but are in character format and hence, we convert them into factor format.\n",
    "Also, we need to find out the number of missing values in the data set. We do this with the help of sapply function which throws the number of missing values in each column of our data set"
   ]
  },
  {
   "cell_type": "code",
   "execution_count": 4,
   "metadata": {},
   "outputs": [
    {
     "data": {
      "text/html": [
       "<table>\n",
       "<thead><tr><th></th><th scope=col>Missing.Values</th></tr></thead>\n",
       "<tbody>\n",
       "\t<tr><th scope=row>complaint_id</th><td>     0</td></tr>\n",
       "\t<tr><th scope=row>date_received</th><td>     0</td></tr>\n",
       "\t<tr><th scope=row>date_sent_to_company</th><td>     0</td></tr>\n",
       "\t<tr><th scope=row>company</th><td>     0</td></tr>\n",
       "\t<tr><th scope=row>product</th><td>     0</td></tr>\n",
       "\t<tr><th scope=row>sub_product</th><td>232556</td></tr>\n",
       "\t<tr><th scope=row>issue</th><td>     0</td></tr>\n",
       "\t<tr><th scope=row>submitted_via</th><td>     0</td></tr>\n",
       "\t<tr><th scope=row>company_public_response</th><td>597946</td></tr>\n",
       "\t<tr><th scope=row>state</th><td>  7233</td></tr>\n",
       "\t<tr><th scope=row>zip_code</th><td>  7378</td></tr>\n",
       "\t<tr><th scope=row>company_response</th><td>     1</td></tr>\n",
       "\t<tr><th scope=row>consumer_disputed</th><td> 74900</td></tr>\n",
       "\t<tr><th scope=row>sub_issue</th><td>460275</td></tr>\n",
       "\t<tr><th scope=row>complaint_what_happened</th><td>641504</td></tr>\n",
       "\t<tr><th scope=row>consumer_consent_provided</th><td>482415</td></tr>\n",
       "\t<tr><th scope=row>timely</th><td>     0</td></tr>\n",
       "\t<tr><th scope=row>tags</th><td>716076</td></tr>\n",
       "</tbody>\n",
       "</table>\n"
      ],
      "text/latex": [
       "\\begin{tabular}{r|l}\n",
       "  & Missing.Values\\\\\n",
       "\\hline\n",
       "\tcomplaint\\_id &      0\\\\\n",
       "\tdate\\_received &      0\\\\\n",
       "\tdate\\_sent\\_to\\_company &      0\\\\\n",
       "\tcompany &      0\\\\\n",
       "\tproduct &      0\\\\\n",
       "\tsub\\_product & 232556\\\\\n",
       "\tissue &      0\\\\\n",
       "\tsubmitted\\_via &      0\\\\\n",
       "\tcompany\\_public\\_response & 597946\\\\\n",
       "\tstate &   7233\\\\\n",
       "\tzip\\_code &   7378\\\\\n",
       "\tcompany\\_response &      1\\\\\n",
       "\tconsumer\\_disputed &  74900\\\\\n",
       "\tsub\\_issue & 460275\\\\\n",
       "\tcomplaint\\_what\\_happened & 641504\\\\\n",
       "\tconsumer\\_consent\\_provided & 482415\\\\\n",
       "\ttimely &      0\\\\\n",
       "\ttags & 716076\\\\\n",
       "\\end{tabular}\n"
      ],
      "text/markdown": [
       "\n",
       "| <!--/--> | Missing.Values | \n",
       "|---|---|---|---|---|---|---|---|---|---|---|---|---|---|---|---|---|---|\n",
       "| complaint_id |      0 | \n",
       "| date_received |      0 | \n",
       "| date_sent_to_company |      0 | \n",
       "| company |      0 | \n",
       "| product |      0 | \n",
       "| sub_product | 232556 | \n",
       "| issue |      0 | \n",
       "| submitted_via |      0 | \n",
       "| company_public_response | 597946 | \n",
       "| state |   7233 | \n",
       "| zip_code |   7378 | \n",
       "| company_response |      1 | \n",
       "| consumer_disputed |  74900 | \n",
       "| sub_issue | 460275 | \n",
       "| complaint_what_happened | 641504 | \n",
       "| consumer_consent_provided | 482415 | \n",
       "| timely |      0 | \n",
       "| tags | 716076 | \n",
       "\n",
       "\n"
      ],
      "text/plain": [
       "                          Missing.Values\n",
       "complaint_id                   0        \n",
       "date_received                  0        \n",
       "date_sent_to_company           0        \n",
       "company                        0        \n",
       "product                        0        \n",
       "sub_product               232556        \n",
       "issue                          0        \n",
       "submitted_via                  0        \n",
       "company_public_response   597946        \n",
       "state                       7233        \n",
       "zip_code                    7378        \n",
       "company_response               1        \n",
       "consumer_disputed          74900        \n",
       "sub_issue                 460275        \n",
       "complaint_what_happened   641504        \n",
       "consumer_consent_provided 482415        \n",
       "timely                         0        \n",
       "tags                      716076        "
      ]
     },
     "metadata": {},
     "output_type": "display_data"
    }
   ],
   "source": [
    "data.frame(Missing.Values = sapply(data, function(x) sum(is.na(x))))\n",
    "data$company <- as.factor(data$company)\n",
    "data$product <- as.factor(data$product)\n",
    "data$sub_product <- as.factor(data$sub_product)\n",
    "data$issue <- as.factor(data$issue)\n",
    "data$company_public_response <- as.factor(data$company_public_response)\n",
    "data$state <- as.factor(data$state)\n",
    "data$company_response <- as.factor(data$company_response)\n",
    "data$consumer_disputed <- as.factor(data$consumer_disputed)"
   ]
  },
  {
   "cell_type": "markdown",
   "metadata": {},
   "source": [
    "### Sentiment Analysis of Customer Complaints"
   ]
  },
  {
   "cell_type": "markdown",
   "metadata": {},
   "source": [
    "The column **complaint_what_happened** states the complaint description that was provided by the consumer. This can give us interesting insights about the words consumers used for their description.\n",
    "\n",
    "Hence, I was inspired to perform sentiment analysis on the complaint description provided by the consumer finding out what where the consumers saying in their complaints!\n",
    "\n",
    "Here, we find that approximately 640K complaint description have missing values. We remove them and treat the rest as a large Corpus.\n",
    "\n",
    "I started the text cleaning process following these steps:- \n",
    "    \n",
    "    1. Remove missing values\n",
    "    2. Substitute unnecessary words with empty character string\n",
    "    3. Removed punctuations\n",
    "    4. Removed Numbers\n",
    "    5. Converted the text to lower space\n",
    "    6. Removed stopwords\n",
    "    7. Striped white space"
   ]
  },
  {
   "cell_type": "code",
   "execution_count": 6,
   "metadata": {},
   "outputs": [],
   "source": [
    "complaints <- data$complaint_what_happened\n",
    "complaints <- complaints[!is.na(complaints)]\n",
    "complaints <- gsub(\"XXXX\", \"\", complaints)\n",
    "complaints <- gsub(\"XX\", \"\", complaints)\n",
    "sample_corpa <- Corpus(VectorSource(complaints))\n",
    "sample_corpa <- tm_map(sample_corpa, content_transformer(removePunctuation))\n",
    "sample_corpa <- tm_map(sample_corpa, content_transformer(removeNumbers))\n",
    "sample_corpa <- tm_map(sample_corpa, content_transformer(function(x){tolower(x)}))\n",
    "sample_corpa <- tm_map(sample_corpa, removeWords, c('xxxx', c(stopwords('en'))))\n",
    "sample_corpa <- tm_map(sample_corpa, stripWhitespace)"
   ]
  },
  {
   "cell_type": "code",
   "execution_count": 7,
   "metadata": {},
   "outputs": [
    {
     "data": {
      "text/html": [
       "<strong>png:</strong> 2"
      ],
      "text/latex": [
       "\\textbf{png:} 2"
      ],
      "text/markdown": [
       "**png:** 2"
      ],
      "text/plain": [
       "png \n",
       "  2 "
      ]
     },
     "metadata": {},
     "output_type": "display_data"
    }
   ],
   "source": [
    "png(\"wordcloud2.png\", width = 1080, height = 720, units = 'px')\n",
    "wordcloud(sample_corpa, scale=c(8,.2),min.freq=10,\n",
    "          max.words=500, random.order=FALSE, rot.per=.30, colors=brewer.pal(8, \"Set1\"))\n",
    "dev.off()"
   ]
  },
  {
   "cell_type": "markdown",
   "metadata": {},
   "source": [
    "<img src=\"wordcloud2.png\">"
   ]
  },
  {
   "cell_type": "markdown",
   "metadata": {},
   "source": [
    "With the help of a **wordcloud**, we were able to find out the most used words and these helped us understand what people were talking about and mentioning in their complaints.\n",
    "\n",
    "Insighting words such as:\n",
    "    1. credit\n",
    "    2. account\n",
    "    3. payment\n",
    "    4. mortgage\n",
    "    5. loan\n",
    "    6. money\n",
    "\n",
    "where eye-balled which made me converge a very interesting story."
   ]
  },
  {
   "cell_type": "markdown",
   "metadata": {},
   "source": [
    "**What if the complaints registred by the consumers where related to their monetary status?** In other words, is there a scenario where, the consumer's state's median income is an indicator of the fact that he/she is more liekly to complain about **Mortgage or Credit service**\n",
    "\n",
    "To check if this is true or not,\n",
    "    1. Summarized the number of Total complaints regarding Mortgage or Credit card services that\n",
    "    where received in states of USA\n",
    "    2. Downloaded data regarding the median income of the states in USA\n",
    "    "
   ]
  },
  {
   "cell_type": "markdown",
   "metadata": {},
   "source": [
    "#### Distribution of Complaints according to States"
   ]
  },
  {
   "cell_type": "code",
   "execution_count": 8,
   "metadata": {},
   "outputs": [
    {
     "name": "stderr",
     "output_type": "stream",
     "text": [
      "Selecting by Total_Complaints\n"
     ]
    },
    {
     "data": {
      "text/html": [
       "<table>\n",
       "<thead><tr><th scope=col>state</th><th scope=col>Total_Complaints</th></tr></thead>\n",
       "<tbody>\n",
       "\t<tr><td>AK  </td><td>  77</td></tr>\n",
       "\t<tr><td>AL  </td><td> 491</td></tr>\n",
       "\t<tr><td>AR  </td><td> 232</td></tr>\n",
       "\t<tr><td>AZ  </td><td>1422</td></tr>\n",
       "\t<tr><td>CA  </td><td>9674</td></tr>\n",
       "\t<tr><td>CO  </td><td>1158</td></tr>\n",
       "</tbody>\n",
       "</table>\n"
      ],
      "text/latex": [
       "\\begin{tabular}{r|ll}\n",
       " state & Total\\_Complaints\\\\\n",
       "\\hline\n",
       "\t AK   &   77\\\\\n",
       "\t AL   &  491\\\\\n",
       "\t AR   &  232\\\\\n",
       "\t AZ   & 1422\\\\\n",
       "\t CA   & 9674\\\\\n",
       "\t CO   & 1158\\\\\n",
       "\\end{tabular}\n"
      ],
      "text/markdown": [
       "\n",
       "state | Total_Complaints | \n",
       "|---|---|---|---|---|---|\n",
       "| AK   |   77 | \n",
       "| AL   |  491 | \n",
       "| AR   |  232 | \n",
       "| AZ   | 1422 | \n",
       "| CA   | 9674 | \n",
       "| CO   | 1158 | \n",
       "\n",
       "\n"
      ],
      "text/plain": [
       "  state Total_Complaints\n",
       "1 AK      77            \n",
       "2 AL     491            \n",
       "3 AR     232            \n",
       "4 AZ    1422            \n",
       "5 CA    9674            \n",
       "6 CO    1158            "
      ]
     },
     "metadata": {},
     "output_type": "display_data"
    }
   ],
   "source": [
    "ind <- c(\"Mortgage\", \"Credit card\")\n",
    "top_s <- data\n",
    "top_s$Year <- lubridate::year(data$date_received)\n",
    "top_s <- top_s %>% filter(product %in% ind & Year == 2016) %>% group_by(state) %>%\n",
    "summarise(Total_Complaints = n())\n",
    "top_s <- top_s %>% filter(state %in% state.abb)\n",
    "top10_s <- top_s %>% top_n(10) %>% arrange(desc(Total_Complaints))\n",
    "head(top_s)"
   ]
  },
  {
   "cell_type": "markdown",
   "metadata": {},
   "source": [
    "#### Median Income of states"
   ]
  },
  {
   "cell_type": "code",
   "execution_count": 9,
   "metadata": {},
   "outputs": [
    {
     "data": {
      "text/html": [
       "<table>\n",
       "<thead><tr><th scope=col>year</th><th scope=col>geo_name</th><th scope=col>geo</th><th scope=col>income</th><th scope=col>state</th></tr></thead>\n",
       "<tbody>\n",
       "\t<tr><td>2016      </td><td>Alabama   </td><td>04000US01 </td><td>44758     </td><td>AL        </td></tr>\n",
       "\t<tr><td>2016      </td><td>Alaska    </td><td>04000US02 </td><td>74444     </td><td>AK        </td></tr>\n",
       "\t<tr><td>2016      </td><td>Arizona   </td><td>04000US04 </td><td>51340     </td><td>AZ        </td></tr>\n",
       "\t<tr><td>2016      </td><td>Arkansas  </td><td>04000US05 </td><td>42336     </td><td>AR        </td></tr>\n",
       "\t<tr><td>2016      </td><td>California</td><td>04000US06 </td><td>63783     </td><td>CA        </td></tr>\n",
       "\t<tr><td>2016      </td><td>Colorado  </td><td>04000US08 </td><td>62520     </td><td>CO        </td></tr>\n",
       "</tbody>\n",
       "</table>\n"
      ],
      "text/latex": [
       "\\begin{tabular}{r|lllll}\n",
       " year & geo\\_name & geo & income & state\\\\\n",
       "\\hline\n",
       "\t 2016       & Alabama    & 04000US01  & 44758      & AL        \\\\\n",
       "\t 2016       & Alaska     & 04000US02  & 74444      & AK        \\\\\n",
       "\t 2016       & Arizona    & 04000US04  & 51340      & AZ        \\\\\n",
       "\t 2016       & Arkansas   & 04000US05  & 42336      & AR        \\\\\n",
       "\t 2016       & California & 04000US06  & 63783      & CA        \\\\\n",
       "\t 2016       & Colorado   & 04000US08  & 62520      & CO        \\\\\n",
       "\\end{tabular}\n"
      ],
      "text/markdown": [
       "\n",
       "year | geo_name | geo | income | state | \n",
       "|---|---|---|---|---|---|\n",
       "| 2016       | Alabama    | 04000US01  | 44758      | AL         | \n",
       "| 2016       | Alaska     | 04000US02  | 74444      | AK         | \n",
       "| 2016       | Arizona    | 04000US04  | 51340      | AZ         | \n",
       "| 2016       | Arkansas   | 04000US05  | 42336      | AR         | \n",
       "| 2016       | California | 04000US06  | 63783      | CA         | \n",
       "| 2016       | Colorado   | 04000US08  | 62520      | CO         | \n",
       "\n",
       "\n"
      ],
      "text/plain": [
       "  year geo_name   geo       income state\n",
       "1 2016 Alabama    04000US01 44758  AL   \n",
       "2 2016 Alaska     04000US02 74444  AK   \n",
       "3 2016 Arizona    04000US04 51340  AZ   \n",
       "4 2016 Arkansas   04000US05 42336  AR   \n",
       "5 2016 California 04000US06 63783  CA   \n",
       "6 2016 Colorado   04000US08 62520  CO   "
      ]
     },
     "metadata": {},
     "output_type": "display_data"
    }
   ],
   "source": [
    "median_income <- read.csv(\"Data USA - Geo Map of Income by Location in the United States.csv\")\n",
    "median_income <- median_income %>% filter(median_income$geo_name %in% state.name)\n",
    "median_income$state <- rep(state.abb, 4)\n",
    "median_income <- median_income %>% filter(year == 2016)\n",
    "top_s <- top_s[order(factor(top_s$state,levels = state.abb)), ]\n",
    "head(median_income)"
   ]
  },
  {
   "cell_type": "code",
   "execution_count": 10,
   "metadata": {},
   "outputs": [
    {
     "data": {
      "text/html": [
       "<table>\n",
       "<thead><tr><th scope=col>year</th><th scope=col>geo_name</th><th scope=col>geo</th><th scope=col>income</th><th scope=col>state</th><th scope=col>Complaints</th><th scope=col>quartile</th></tr></thead>\n",
       "<tbody>\n",
       "\t<tr><td>2016         </td><td>Maryland     </td><td>04000US24    </td><td>76067        </td><td>MD           </td><td>25834        </td><td>Forth 25%    </td></tr>\n",
       "\t<tr><td>2016         </td><td>Alaska       </td><td>04000US02    </td><td>74444        </td><td>AK           </td><td>  967        </td><td>Forth 25%    </td></tr>\n",
       "\t<tr><td>2016         </td><td>New Jersey   </td><td>04000US34    </td><td>73702        </td><td>NJ           </td><td>32824        </td><td>Forth 25%    </td></tr>\n",
       "\t<tr><td>2016         </td><td>Hawaii       </td><td>04000US15    </td><td>71977        </td><td>HI           </td><td> 2697        </td><td>Forth 25%    </td></tr>\n",
       "\t<tr><td>2016         </td><td>Connecticut  </td><td>04000US09    </td><td>71755        </td><td>CT           </td><td> 9047        </td><td>Forth 25%    </td></tr>\n",
       "\t<tr><td>2016         </td><td>Massachusetts</td><td>04000US25    </td><td>70954        </td><td>MA           </td><td>15840        </td><td>Forth 25%    </td></tr>\n",
       "</tbody>\n",
       "</table>\n"
      ],
      "text/latex": [
       "\\begin{tabular}{r|lllllll}\n",
       " year & geo\\_name & geo & income & state & Complaints & quartile\\\\\n",
       "\\hline\n",
       "\t 2016          & Maryland      & 04000US24     & 76067         & MD            & 25834         & Forth 25\\%  \\\\\n",
       "\t 2016          & Alaska        & 04000US02     & 74444         & AK            &   967         & Forth 25\\%  \\\\\n",
       "\t 2016          & New Jersey    & 04000US34     & 73702         & NJ            & 32824         & Forth 25\\%  \\\\\n",
       "\t 2016          & Hawaii        & 04000US15     & 71977         & HI            &  2697         & Forth 25\\%  \\\\\n",
       "\t 2016          & Connecticut   & 04000US09     & 71755         & CT            &  9047         & Forth 25\\%  \\\\\n",
       "\t 2016          & Massachusetts & 04000US25     & 70954         & MA            & 15840         & Forth 25\\%  \\\\\n",
       "\\end{tabular}\n"
      ],
      "text/markdown": [
       "\n",
       "year | geo_name | geo | income | state | Complaints | quartile | \n",
       "|---|---|---|---|---|---|\n",
       "| 2016          | Maryland      | 04000US24     | 76067         | MD            | 25834         | Forth 25%     | \n",
       "| 2016          | Alaska        | 04000US02     | 74444         | AK            |   967         | Forth 25%     | \n",
       "| 2016          | New Jersey    | 04000US34     | 73702         | NJ            | 32824         | Forth 25%     | \n",
       "| 2016          | Hawaii        | 04000US15     | 71977         | HI            |  2697         | Forth 25%     | \n",
       "| 2016          | Connecticut   | 04000US09     | 71755         | CT            |  9047         | Forth 25%     | \n",
       "| 2016          | Massachusetts | 04000US25     | 70954         | MA            | 15840         | Forth 25%     | \n",
       "\n",
       "\n"
      ],
      "text/plain": [
       "  year geo_name      geo       income state Complaints quartile \n",
       "1 2016 Maryland      04000US24 76067  MD    25834      Forth 25%\n",
       "2 2016 Alaska        04000US02 74444  AK      967      Forth 25%\n",
       "3 2016 New Jersey    04000US34 73702  NJ    32824      Forth 25%\n",
       "4 2016 Hawaii        04000US15 71977  HI     2697      Forth 25%\n",
       "5 2016 Connecticut   04000US09 71755  CT     9047      Forth 25%\n",
       "6 2016 Massachusetts 04000US25 70954  MA    15840      Forth 25%"
      ]
     },
     "metadata": {},
     "output_type": "display_data"
    }
   ],
   "source": [
    "head(median_income_c)"
   ]
  },
  {
   "cell_type": "code",
   "execution_count": 11,
   "metadata": {},
   "outputs": [
    {
     "data": {
      "text/html": [
       "<table>\n",
       "<thead><tr><th scope=col>Quantile</th><th scope=col>Total_Complaints</th><th scope=col>Proportion</th></tr></thead>\n",
       "<tbody>\n",
       "\t<tr><td>Bottom 25%</td><td>11569     </td><td>19%       </td></tr>\n",
       "\t<tr><td>Second 25%</td><td>10514     </td><td>18%       </td></tr>\n",
       "\t<tr><td>Third 25% </td><td>14874     </td><td>25%       </td></tr>\n",
       "\t<tr><td>Forth 25% </td><td>23118     </td><td>38%       </td></tr>\n",
       "</tbody>\n",
       "</table>\n"
      ],
      "text/latex": [
       "\\begin{tabular}{r|lll}\n",
       " Quantile & Total\\_Complaints & Proportion\\\\\n",
       "\\hline\n",
       "\t Bottom 25\\% & 11569        & 19\\%       \\\\\n",
       "\t Second 25\\% & 10514        & 18\\%       \\\\\n",
       "\t Third 25\\%  & 14874        & 25\\%       \\\\\n",
       "\t Forth 25\\%  & 23118        & 38\\%       \\\\\n",
       "\\end{tabular}\n"
      ],
      "text/markdown": [
       "\n",
       "Quantile | Total_Complaints | Proportion | \n",
       "|---|---|---|---|\n",
       "| Bottom 25% | 11569      | 19%        | \n",
       "| Second 25% | 10514      | 18%        | \n",
       "| Third 25%  | 14874      | 25%        | \n",
       "| Forth 25%  | 23118      | 38%        | \n",
       "\n",
       "\n"
      ],
      "text/plain": [
       "  Quantile   Total_Complaints Proportion\n",
       "1 Bottom 25% 11569            19%       \n",
       "2 Second 25% 10514            18%       \n",
       "3 Third 25%  14874            25%       \n",
       "4 Forth 25%  23118            38%       "
      ]
     },
     "metadata": {},
     "output_type": "display_data"
    }
   ],
   "source": [
    "median_income_c <- median_income\n",
    "median_income_c$Complaints <- top_s$Total_Complaints\n",
    "median_income_c$Quantile <- with(median_income_c, cut(income, \n",
    "                                breaks=quantile(income, probs=seq(0,1, by=0.25), na.rm=TRUE), \n",
    "                                include.lowest=TRUE, labels=c(\"Bottom 25%\",\"Second 25%\",\n",
    "                                                              \"Third 25%\",\"Forth 25%\")))\n",
    "median_income_c <- median_income_c %>% arrange(desc(income))\n",
    "quantile_comp <- median_income_c %>% group_by(Quantile) %>% summarise(Total_Complaints = sum(Complaints)) %>%\n",
    "mutate(Proportion = paste0(round(Total_Complaints / sum(Total_Complaints) * 100), \"%\"))\n",
    "head(quantile_comp)"
   ]
  },
  {
   "cell_type": "code",
   "execution_count": 13,
   "metadata": {},
   "outputs": [
    {
     "data": {},
     "metadata": {},
     "output_type": "display_data"
    },
    {
     "data": {
      "image/png": "[encoded data removed]",
      "text/plain": [
       "plot without title"
      ]
     },
     "metadata": {},
     "output_type": "display_data"
    }
   ],
   "source": [
    "options(repr.plot.width = 6, repr.plot.height = 4)\n",
    "ggplot(quantile_comp, aes(Quantile, Total_Complaints, fill = as.factor(Quantile))) +\n",
    "  geom_bar(stat = 'identity') + scale_y_continuous(labels = comma) +\n",
    "  geom_text(aes(label = Proportion), size=3, position = position_dodge(0.9), vjust = -0.3) +\n",
    "  labs(fill = 'Median Household Income Quantile') + scale_x_discrete(\"Quartile\", labels = NULL) + \n",
    "  ggtitle(\"Mortgage or Credit Card Complaints in 2016 vs Median Household Income Quantiles\") +\n",
    "  theme_minimal() + \n",
    "  theme(axis.title.x = element_blank(), title = element_text(size = 6))"
   ]
  },
  {
   "cell_type": "markdown",
   "metadata": {},
   "source": [
    "### Conclusions"
   ]
  },
  {
   "cell_type": "markdown",
   "metadata": {},
   "source": [
    "    1. Analyzing the complaint description provided by the consumer, we found interesting words\n",
    "    related to Consumer's Financial scenario\n",
    "    \n",
    "    2. Most Frequent appearing words were\n",
    "        1. Credit\n",
    "        2. Account\n",
    "        3. Payment\n",
    "    \n",
    "    3. The rich states complain twice as much as the bottom quantile states about the Mortgage and\n",
    "    Credit Card services which make nearly 45% of the total complaints\n",
    "    \n",
    "    4. The analysis reveals evidence that the well - off, rich states in USA are more likely to submit\n",
    "    complain to CFPB. These type of consumers likely have more resources available to them and hence \n",
    "    have more problems that need solutions"
   ]
  },
  {
   "cell_type": "code",
   "execution_count": null,
   "metadata": {},
   "outputs": [],
   "source": []
  }
 ],
 "metadata": {
  "kernelspec": {
   "display_name": "R",
   "language": "R",
   "name": "ir"
  },
  "language_info": {
   "codemirror_mode": "r",
   "file_extension": ".r",
   "mimetype": "text/x-r-source",
   "name": "R",
   "pygments_lexer": "r",
   "version": "3.4.3"
  }
 },
 "nbformat": 4,
 "nbformat_minor": 2
}
