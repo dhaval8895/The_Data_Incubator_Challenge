{
 "cells": [
  {
   "cell_type": "markdown",
   "metadata": {},
   "source": [
    "# Consumer Financial Protection Bureau - Consumer Complaints\n",
    "## Exploratory Data Analysis - Part 1"
   ]
  },
  {
   "cell_type": "markdown",
   "metadata": {},
   "source": [
    "### Loading required Libraries"
   ]
  },
  {
   "cell_type": "code",
   "execution_count": 16,
   "metadata": {},
   "outputs": [
    {
     "name": "stderr",
     "output_type": "stream",
     "text": [
      "\n",
      "Attaching package: 'scales'\n",
      "\n",
      "The following object is masked from 'package:readr':\n",
      "\n",
      "    col_factor\n",
      "\n"
     ]
    }
   ],
   "source": [
    "library(readr)\n",
    "library(dplyr)\n",
    "library(ggplot2)\n",
    "library(quanteda)\n",
    "library(RColorBrewer)\n",
    "library(wordcloud)\n",
    "library(openxlsx)\n",
    "library(datasets)\n",
    "library(tm)\n",
    "library(scales)"
   ]
  },
  {
   "cell_type": "markdown",
   "metadata": {},
   "source": [
    "### Loading the data set"
   ]
  },
  {
   "cell_type": "code",
   "execution_count": 5,
   "metadata": {},
   "outputs": [
    {
     "name": "stderr",
     "output_type": "stream",
     "text": [
      "Parsed with column specification:\n",
      "cols(\n",
      "  complaint_id = col_integer(),\n",
      "  date_received = col_datetime(format = \"\"),\n",
      "  date_sent_to_company = col_datetime(format = \"\"),\n",
      "  company = col_character(),\n",
      "  product = col_character(),\n",
      "  sub_product = col_character(),\n",
      "  issue = col_character(),\n",
      "  submitted_via = col_character(),\n",
      "  company_public_response = col_character(),\n",
      "  state = col_character(),\n",
      "  zip_code = col_character(),\n",
      "  company_response = col_character(),\n",
      "  consumer_disputed = col_character(),\n",
      "  sub_issue = col_character(),\n",
      "  complaint_what_happened = col_character(),\n",
      "  consumer_consent_provided = col_character(),\n",
      "  timely = col_character(),\n",
      "  tags = col_character()\n",
      ")\n"
     ]
    },
    {
     "name": "stdout",
     "output_type": "stream",
     "text": [
      "|=================================================================| 100%  576 MB\n",
      "Observations: 1,078,137\n",
      "Variables: 18\n",
      "$ complaint_id              <int> 14372, 1216062, 1357172, 1770766, 868283,...\n",
      "$ date_received             <dttm> 2012-01-17, 2015-01-29, 2015-05-01, 2016...\n",
      "$ date_sent_to_company      <dttm> 2012-01-20, 2015-01-29, 2015-05-01, 2016...\n",
      "$ company                   <chr> \"JPMORGAN CHASE & CO.\", \"RFNA, LP\", \"BANK...\n",
      "$ product                   <chr> \"Mortgage\", \"Debt collection\", \"Mortgage\"...\n",
      "$ sub_product               <chr> \"Conventional fixed mortgage\", \"Other (i....\n",
      "$ issue                     <chr> \"Loan modification,collection,foreclosure...\n",
      "$ submitted_via             <chr> \"Phone\", \"Web\", \"Web\", \"Fax\", \"Web\", \"Ref...\n",
      "$ company_public_response   <chr> NA, NA, NA, NA, NA, \"Company chooses not ...\n",
      "$ state                     <chr> \"CA\", \"SC\", \"PA\", \"MD\", \"CA\", \"VA\", \"PA\",...\n",
      "$ zip_code                  <chr> \"94404\", \"29657\", \"15063\", \"21239\", \"9211...\n",
      "$ company_response          <chr> \"Closed without relief\", \"Closed with exp...\n",
      "$ consumer_disputed         <chr> \"No\", \"Yes\", \"No\", \"Yes\", \"No\", \"No\", \"No...\n",
      "$ sub_issue                 <chr> NA, \"Indicated shouldn't respond to lawsu...\n",
      "$ complaint_what_happened   <chr> NA, NA, NA, NA, NA, NA, NA, NA, \"Citi is ...\n",
      "$ consumer_consent_provided <chr> NA, NA, \"Consent not provided\", NA, NA, N...\n",
      "$ timely                    <chr> \"Yes\", \"Yes\", \"Yes\", \"Yes\", \"Yes\", \"Yes\",...\n",
      "$ tags                      <chr> \"Older American\", NA, NA, NA, NA, NA, \"Ol...\n"
     ]
    }
   ],
   "source": [
    "data <- read_csv(\"cc.csv\", na = c(\"NA\", \"N/A\", NULL, \"\"), progress = TRUE)\n",
    "glimpse(data)"
   ]
  },
  {
   "cell_type": "markdown",
   "metadata": {},
   "source": [
    "#### Data benchmarks:\n",
    "\n",
    "##### 1. Size = 576 MB\n",
    "##### 2. Rows = 1078137\n",
    "##### 3. Columns = 18"
   ]
  },
  {
   "cell_type": "markdown",
   "metadata": {},
   "source": [
    "### Cleaning and Munging data"
   ]
  },
  {
   "cell_type": "markdown",
   "metadata": {},
   "source": [
    "We find that a lot of variables belong to class factor but are in character format and hence, we convert them into factor format.\n",
    "Also, we need to find out the number of missing values in the data set. We do this with the help of sapply function which throws the number of missing values in each column of our data set"
   ]
  },
  {
   "cell_type": "code",
   "execution_count": 6,
   "metadata": {},
   "outputs": [
    {
     "data": {
      "text/html": [
       "<table>\n",
       "<thead><tr><th></th><th scope=col>Missing.Values</th></tr></thead>\n",
       "<tbody>\n",
       "\t<tr><th scope=row>complaint_id</th><td>     0</td></tr>\n",
       "\t<tr><th scope=row>date_received</th><td>     0</td></tr>\n",
       "\t<tr><th scope=row>date_sent_to_company</th><td>     0</td></tr>\n",
       "\t<tr><th scope=row>company</th><td>     0</td></tr>\n",
       "\t<tr><th scope=row>product</th><td>     0</td></tr>\n",
       "\t<tr><th scope=row>sub_product</th><td>235170</td></tr>\n",
       "\t<tr><th scope=row>issue</th><td>     0</td></tr>\n",
       "\t<tr><th scope=row>submitted_via</th><td>     0</td></tr>\n",
       "\t<tr><th scope=row>company_public_response</th><td>733283</td></tr>\n",
       "\t<tr><th scope=row>state</th><td> 13645</td></tr>\n",
       "\t<tr><th scope=row>zip_code</th><td> 18253</td></tr>\n",
       "\t<tr><th scope=row>company_response</th><td>     5</td></tr>\n",
       "\t<tr><th scope=row>consumer_disputed</th><td>309588</td></tr>\n",
       "\t<tr><th scope=row>sub_issue</th><td>503951</td></tr>\n",
       "\t<tr><th scope=row>complaint_what_happened</th><td>775615</td></tr>\n",
       "\t<tr><th scope=row>consumer_consent_provided</th><td>542790</td></tr>\n",
       "\t<tr><th scope=row>timely</th><td>     0</td></tr>\n",
       "\t<tr><th scope=row>tags</th><td>929888</td></tr>\n",
       "</tbody>\n",
       "</table>\n"
      ],
      "text/latex": [
       "\\begin{tabular}{r|l}\n",
       "  & Missing.Values\\\\\n",
       "\\hline\n",
       "\tcomplaint\\_id &      0\\\\\n",
       "\tdate\\_received &      0\\\\\n",
       "\tdate\\_sent\\_to\\_company &      0\\\\\n",
       "\tcompany &      0\\\\\n",
       "\tproduct &      0\\\\\n",
       "\tsub\\_product & 235170\\\\\n",
       "\tissue &      0\\\\\n",
       "\tsubmitted\\_via &      0\\\\\n",
       "\tcompany\\_public\\_response & 733283\\\\\n",
       "\tstate &  13645\\\\\n",
       "\tzip\\_code &  18253\\\\\n",
       "\tcompany\\_response &      5\\\\\n",
       "\tconsumer\\_disputed & 309588\\\\\n",
       "\tsub\\_issue & 503951\\\\\n",
       "\tcomplaint\\_what\\_happened & 775615\\\\\n",
       "\tconsumer\\_consent\\_provided & 542790\\\\\n",
       "\ttimely &      0\\\\\n",
       "\ttags & 929888\\\\\n",
       "\\end{tabular}\n"
      ],
      "text/markdown": [
       "\n",
       "| <!--/--> | Missing.Values | \n",
       "|---|---|---|---|---|---|---|---|---|---|---|---|---|---|---|---|---|---|\n",
       "| complaint_id |      0 | \n",
       "| date_received |      0 | \n",
       "| date_sent_to_company |      0 | \n",
       "| company |      0 | \n",
       "| product |      0 | \n",
       "| sub_product | 235170 | \n",
       "| issue |      0 | \n",
       "| submitted_via |      0 | \n",
       "| company_public_response | 733283 | \n",
       "| state |  13645 | \n",
       "| zip_code |  18253 | \n",
       "| company_response |      5 | \n",
       "| consumer_disputed | 309588 | \n",
       "| sub_issue | 503951 | \n",
       "| complaint_what_happened | 775615 | \n",
       "| consumer_consent_provided | 542790 | \n",
       "| timely |      0 | \n",
       "| tags | 929888 | \n",
       "\n",
       "\n"
      ],
      "text/plain": [
       "                          Missing.Values\n",
       "complaint_id                   0        \n",
       "date_received                  0        \n",
       "date_sent_to_company           0        \n",
       "company                        0        \n",
       "product                        0        \n",
       "sub_product               235170        \n",
       "issue                          0        \n",
       "submitted_via                  0        \n",
       "company_public_response   733283        \n",
       "state                      13645        \n",
       "zip_code                   18253        \n",
       "company_response               5        \n",
       "consumer_disputed         309588        \n",
       "sub_issue                 503951        \n",
       "complaint_what_happened   775615        \n",
       "consumer_consent_provided 542790        \n",
       "timely                         0        \n",
       "tags                      929888        "
      ]
     },
     "metadata": {},
     "output_type": "display_data"
    }
   ],
   "source": [
    "data.frame(Missing.Values = sapply(data, function(x) sum(is.na(x))))\n",
    "data$company <- as.factor(data$company)\n",
    "data$product <- as.factor(data$product)\n",
    "data$sub_product <- as.factor(data$sub_product)\n",
    "data$issue <- as.factor(data$issue)\n",
    "data$company_public_response <- as.factor(data$company_public_response)\n",
    "data$state <- as.factor(data$state)\n",
    "data$company_response <- as.factor(data$company_response)\n",
    "data$consumer_disputed <- as.factor(data$consumer_disputed)"
   ]
  },
  {
   "cell_type": "markdown",
   "metadata": {},
   "source": [
    "### Sentiment Analysis of Customer Complaints"
   ]
  },
  {
   "cell_type": "markdown",
   "metadata": {},
   "source": [
    "The column **complaint_what_happened** states the complaint description that was provided by the consumer. This can give us interesting insights about the words consumers used for their description.\n",
    "\n",
    "Hence, I was inspired to perform sentiment analysis on the complaint description provided by the consumer finding out what where the consumers saying in their complaints!\n",
    "\n",
    "Here, we find that approximately 640K complaint description have missing values. We remove them and treat the rest as a large Corpus.\n",
    "\n",
    "I started the text cleaning process following these steps:- \n",
    "    \n",
    "    1. Remove missing values\n",
    "    2. Substitute unnecessary words with empty character string\n",
    "    3. Removed punctuations\n",
    "    4. Removed Numbers\n",
    "    5. Converted the text to lower space\n",
    "    6. Removed stopwords\n",
    "    7. Striped white space"
   ]
  },
  {
   "cell_type": "code",
   "execution_count": 7,
   "metadata": {},
   "outputs": [
    {
     "ename": "ERROR",
     "evalue": "Error in Corpus(VectorSource(complaints)): could not find function \"Corpus\"\n",
     "output_type": "error",
     "traceback": [
      "Error in Corpus(VectorSource(complaints)): could not find function \"Corpus\"\nTraceback:\n"
     ]
    }
   ],
   "source": [
    "complaints <- data$complaint_what_happened\n",
    "complaints <- complaints[!is.na(complaints)]\n",
    "complaints <- gsub(\"XXXX\", \"\", complaints)\n",
    "complaints <- gsub(\"XX\", \"\", complaints)\n",
    "sample_corpa <- Corpus(VectorSource(complaints))\n",
    "sample_corpa <- tm_map(sample_corpa, content_transformer(removePunctuation))\n",
    "sample_corpa <- tm_map(sample_corpa, content_transformer(removeNumbers))\n",
    "sample_corpa <- tm_map(sample_corpa, content_transformer(function(x){tolower(x)}))\n",
    "sample_corpa <- tm_map(sample_corpa, removeWords, c('xxxx', c(stopwords('en'))))\n",
    "sample_corpa <- tm_map(sample_corpa, stripWhitespace)"
   ]
  },
  {
   "cell_type": "code",
   "execution_count": 10,
   "metadata": {},
   "outputs": [
    {
     "data": {
      "text/html": [
       "<strong>png:</strong> 2"
      ],
      "text/latex": [
       "\\textbf{png:} 2"
      ],
      "text/markdown": [
       "**png:** 2"
      ],
      "text/plain": [
       "png \n",
       "  2 "
      ]
     },
     "metadata": {},
     "output_type": "display_data"
    }
   ],
   "source": [
    "png(\"wordcloud3.png\", width = 1080, height = 720, units = 'px')\n",
    "wordcloud(sample_corpa, scale=c(8,.2),min.freq=10,\n",
    "          max.words=500, random.order=FALSE, rot.per=.30, colors=brewer.pal(8, \"Set1\"))\n",
    "dev.off()"
   ]
  },
  {
   "cell_type": "markdown",
   "metadata": {},
   "source": [
    "<img src=\"wordcloud3.png\">"
   ]
  },
  {
   "cell_type": "markdown",
   "metadata": {},
   "source": [
    "With the help of a **wordcloud**, we were able to find out the most used words and these helped us understand what people were talking about and mentioning in their complaints.\n",
    "\n",
    "Insighting words such as:\n",
    "    1. credit\n",
    "    2. account\n",
    "    3. payment\n",
    "    4. mortgage\n",
    "    5. loan\n",
    "    6. money\n",
    "\n",
    "where eye-balled which made me converge a very interesting story."
   ]
  },
  {
   "cell_type": "markdown",
   "metadata": {},
   "source": [
    "**What if the complaints registred by the consumers where related to their monetary status?** In other words, is there a scenario where, the consumer's state's median income is an indicator of the fact that he/she is more liekly to complain about **Mortgage or Credit service**\n",
    "\n",
    "To check if this is true or not,\n",
    "    1. Summarized the number of Total complaints regarding Mortgage or Credit card services that\n",
    "    where received in states of USA\n",
    "    2. Downloaded data regarding the median income of the states in USA\n",
    "    "
   ]
  },
  {
   "cell_type": "markdown",
   "metadata": {},
   "source": [
    "#### Distribution of Complaints according to States"
   ]
  },
  {
   "cell_type": "code",
   "execution_count": 18,
   "metadata": {},
   "outputs": [
    {
     "name": "stderr",
     "output_type": "stream",
     "text": [
      "Selecting by Total_Complaints\n"
     ]
    },
    {
     "data": {
      "text/html": [
       "<table>\n",
       "<thead><tr><th scope=col>state</th><th scope=col>Total_Complaints</th></tr></thead>\n",
       "<tbody>\n",
       "\t<tr><td>AK  </td><td>  81</td></tr>\n",
       "\t<tr><td>AL  </td><td> 510</td></tr>\n",
       "\t<tr><td>AR  </td><td> 237</td></tr>\n",
       "\t<tr><td>AZ  </td><td>1455</td></tr>\n",
       "\t<tr><td>CA  </td><td>9869</td></tr>\n",
       "\t<tr><td>CO  </td><td>1176</td></tr>\n",
       "</tbody>\n",
       "</table>\n"
      ],
      "text/latex": [
       "\\begin{tabular}{r|ll}\n",
       " state & Total\\_Complaints\\\\\n",
       "\\hline\n",
       "\t AK   &   81\\\\\n",
       "\t AL   &  510\\\\\n",
       "\t AR   &  237\\\\\n",
       "\t AZ   & 1455\\\\\n",
       "\t CA   & 9869\\\\\n",
       "\t CO   & 1176\\\\\n",
       "\\end{tabular}\n"
      ],
      "text/markdown": [
       "\n",
       "state | Total_Complaints | \n",
       "|---|---|---|---|---|---|\n",
       "| AK   |   81 | \n",
       "| AL   |  510 | \n",
       "| AR   |  237 | \n",
       "| AZ   | 1455 | \n",
       "| CA   | 9869 | \n",
       "| CO   | 1176 | \n",
       "\n",
       "\n"
      ],
      "text/plain": [
       "  state Total_Complaints\n",
       "1 AK      81            \n",
       "2 AL     510            \n",
       "3 AR     237            \n",
       "4 AZ    1455            \n",
       "5 CA    9869            \n",
       "6 CO    1176            "
      ]
     },
     "metadata": {},
     "output_type": "display_data"
    }
   ],
   "source": [
    "ind <- c(\"Mortgage\", \"Credit card\")\n",
    "top_s <- data\n",
    "top_s$Year <- lubridate::year(data$date_received)\n",
    "top_s <- top_s %>% filter(product %in% ind & Year == 2016) %>% group_by(state) %>%\n",
    "summarise(Total_Complaints = n())\n",
    "top_s <- top_s %>% filter(state %in% state.abb)\n",
    "top10_s <- top_s %>% top_n(10) %>% arrange(desc(Total_Complaints))\n",
    "head(top_s)"
   ]
  },
  {
   "cell_type": "markdown",
   "metadata": {},
   "source": [
    "#### Median Income of states"
   ]
  },
  {
   "cell_type": "code",
   "execution_count": 19,
   "metadata": {},
   "outputs": [
    {
     "data": {
      "text/html": [
       "<table>\n",
       "<thead><tr><th scope=col>year</th><th scope=col>geo_name</th><th scope=col>geo</th><th scope=col>income</th><th scope=col>state</th></tr></thead>\n",
       "<tbody>\n",
       "\t<tr><td>2016      </td><td>Alabama   </td><td>04000US01 </td><td>44758     </td><td>AL        </td></tr>\n",
       "\t<tr><td>2016      </td><td>Alaska    </td><td>04000US02 </td><td>74444     </td><td>AK        </td></tr>\n",
       "\t<tr><td>2016      </td><td>Arizona   </td><td>04000US04 </td><td>51340     </td><td>AZ        </td></tr>\n",
       "\t<tr><td>2016      </td><td>Arkansas  </td><td>04000US05 </td><td>42336     </td><td>AR        </td></tr>\n",
       "\t<tr><td>2016      </td><td>California</td><td>04000US06 </td><td>63783     </td><td>CA        </td></tr>\n",
       "\t<tr><td>2016      </td><td>Colorado  </td><td>04000US08 </td><td>62520     </td><td>CO        </td></tr>\n",
       "</tbody>\n",
       "</table>\n"
      ],
      "text/latex": [
       "\\begin{tabular}{r|lllll}\n",
       " year & geo\\_name & geo & income & state\\\\\n",
       "\\hline\n",
       "\t 2016       & Alabama    & 04000US01  & 44758      & AL        \\\\\n",
       "\t 2016       & Alaska     & 04000US02  & 74444      & AK        \\\\\n",
       "\t 2016       & Arizona    & 04000US04  & 51340      & AZ        \\\\\n",
       "\t 2016       & Arkansas   & 04000US05  & 42336      & AR        \\\\\n",
       "\t 2016       & California & 04000US06  & 63783      & CA        \\\\\n",
       "\t 2016       & Colorado   & 04000US08  & 62520      & CO        \\\\\n",
       "\\end{tabular}\n"
      ],
      "text/markdown": [
       "\n",
       "year | geo_name | geo | income | state | \n",
       "|---|---|---|---|---|---|\n",
       "| 2016       | Alabama    | 04000US01  | 44758      | AL         | \n",
       "| 2016       | Alaska     | 04000US02  | 74444      | AK         | \n",
       "| 2016       | Arizona    | 04000US04  | 51340      | AZ         | \n",
       "| 2016       | Arkansas   | 04000US05  | 42336      | AR         | \n",
       "| 2016       | California | 04000US06  | 63783      | CA         | \n",
       "| 2016       | Colorado   | 04000US08  | 62520      | CO         | \n",
       "\n",
       "\n"
      ],
      "text/plain": [
       "  year geo_name   geo       income state\n",
       "1 2016 Alabama    04000US01 44758  AL   \n",
       "2 2016 Alaska     04000US02 74444  AK   \n",
       "3 2016 Arizona    04000US04 51340  AZ   \n",
       "4 2016 Arkansas   04000US05 42336  AR   \n",
       "5 2016 California 04000US06 63783  CA   \n",
       "6 2016 Colorado   04000US08 62520  CO   "
      ]
     },
     "metadata": {},
     "output_type": "display_data"
    }
   ],
   "source": [
    "median_income <- read.csv(\"Data USA - Geo Map of Income by Location in the United States.csv\")\n",
    "median_income <- median_income %>% filter(median_income$geo_name %in% state.name)\n",
    "median_income$state <- rep(state.abb, 4)\n",
    "median_income <- median_income %>% filter(year == 2016)\n",
    "top_s <- top_s[order(factor(top_s$state,levels = state.abb)), ]\n",
    "head(median_income)"
   ]
  },
  {
   "cell_type": "code",
   "execution_count": 20,
   "metadata": {},
   "outputs": [
    {
     "data": {
      "text/html": [
       "<table>\n",
       "<thead><tr><th scope=col>year</th><th scope=col>geo_name</th><th scope=col>geo</th><th scope=col>income</th><th scope=col>state</th><th scope=col>Complaints</th><th scope=col>Quantile</th></tr></thead>\n",
       "<tbody>\n",
       "\t<tr><td>2016         </td><td>Maryland     </td><td>04000US24    </td><td>76067        </td><td>MD           </td><td>2051         </td><td>Forth 25%    </td></tr>\n",
       "\t<tr><td>2016         </td><td>Alaska       </td><td>04000US02    </td><td>74444        </td><td>AK           </td><td>  81         </td><td>Forth 25%    </td></tr>\n",
       "\t<tr><td>2016         </td><td>New Jersey   </td><td>04000US34    </td><td>73702        </td><td>NJ           </td><td>3064         </td><td>Forth 25%    </td></tr>\n",
       "\t<tr><td>2016         </td><td>Hawaii       </td><td>04000US15    </td><td>71977        </td><td>HI           </td><td> 223         </td><td>Forth 25%    </td></tr>\n",
       "\t<tr><td>2016         </td><td>Connecticut  </td><td>04000US09    </td><td>71755        </td><td>CT           </td><td> 798         </td><td>Forth 25%    </td></tr>\n",
       "\t<tr><td>2016         </td><td>Massachusetts</td><td>04000US25    </td><td>70954        </td><td>MA           </td><td>1413         </td><td>Forth 25%    </td></tr>\n",
       "</tbody>\n",
       "</table>\n"
      ],
      "text/latex": [
       "\\begin{tabular}{r|lllllll}\n",
       " year & geo\\_name & geo & income & state & Complaints & Quantile\\\\\n",
       "\\hline\n",
       "\t 2016          & Maryland      & 04000US24     & 76067         & MD            & 2051          & Forth 25\\%  \\\\\n",
       "\t 2016          & Alaska        & 04000US02     & 74444         & AK            &   81          & Forth 25\\%  \\\\\n",
       "\t 2016          & New Jersey    & 04000US34     & 73702         & NJ            & 3064          & Forth 25\\%  \\\\\n",
       "\t 2016          & Hawaii        & 04000US15     & 71977         & HI            &  223          & Forth 25\\%  \\\\\n",
       "\t 2016          & Connecticut   & 04000US09     & 71755         & CT            &  798          & Forth 25\\%  \\\\\n",
       "\t 2016          & Massachusetts & 04000US25     & 70954         & MA            & 1413          & Forth 25\\%  \\\\\n",
       "\\end{tabular}\n"
      ],
      "text/markdown": [
       "\n",
       "year | geo_name | geo | income | state | Complaints | Quantile | \n",
       "|---|---|---|---|---|---|\n",
       "| 2016          | Maryland      | 04000US24     | 76067         | MD            | 2051          | Forth 25%     | \n",
       "| 2016          | Alaska        | 04000US02     | 74444         | AK            |   81          | Forth 25%     | \n",
       "| 2016          | New Jersey    | 04000US34     | 73702         | NJ            | 3064          | Forth 25%     | \n",
       "| 2016          | Hawaii        | 04000US15     | 71977         | HI            |  223          | Forth 25%     | \n",
       "| 2016          | Connecticut   | 04000US09     | 71755         | CT            |  798          | Forth 25%     | \n",
       "| 2016          | Massachusetts | 04000US25     | 70954         | MA            | 1413          | Forth 25%     | \n",
       "\n",
       "\n"
      ],
      "text/plain": [
       "  year geo_name      geo       income state Complaints Quantile \n",
       "1 2016 Maryland      04000US24 76067  MD    2051       Forth 25%\n",
       "2 2016 Alaska        04000US02 74444  AK      81       Forth 25%\n",
       "3 2016 New Jersey    04000US34 73702  NJ    3064       Forth 25%\n",
       "4 2016 Hawaii        04000US15 71977  HI     223       Forth 25%\n",
       "5 2016 Connecticut   04000US09 71755  CT     798       Forth 25%\n",
       "6 2016 Massachusetts 04000US25 70954  MA    1413       Forth 25%"
      ]
     },
     "metadata": {},
     "output_type": "display_data"
    }
   ],
   "source": [
    "head(median_income_c)"
   ]
  },
  {
   "cell_type": "code",
   "execution_count": 21,
   "metadata": {},
   "outputs": [
    {
     "data": {
      "text/html": [
       "<table>\n",
       "<thead><tr><th scope=col>Quantile</th><th scope=col>Total_Complaints</th><th scope=col>Proportion</th></tr></thead>\n",
       "<tbody>\n",
       "\t<tr><td>Bottom 25%</td><td>11782     </td><td>19%       </td></tr>\n",
       "\t<tr><td>Second 25%</td><td>10865     </td><td>18%       </td></tr>\n",
       "\t<tr><td>Third 25% </td><td>15177     </td><td>25%       </td></tr>\n",
       "\t<tr><td>Forth 25% </td><td>23643     </td><td>38%       </td></tr>\n",
       "</tbody>\n",
       "</table>\n"
      ],
      "text/latex": [
       "\\begin{tabular}{r|lll}\n",
       " Quantile & Total\\_Complaints & Proportion\\\\\n",
       "\\hline\n",
       "\t Bottom 25\\% & 11782        & 19\\%       \\\\\n",
       "\t Second 25\\% & 10865        & 18\\%       \\\\\n",
       "\t Third 25\\%  & 15177        & 25\\%       \\\\\n",
       "\t Forth 25\\%  & 23643        & 38\\%       \\\\\n",
       "\\end{tabular}\n"
      ],
      "text/markdown": [
       "\n",
       "Quantile | Total_Complaints | Proportion | \n",
       "|---|---|---|---|\n",
       "| Bottom 25% | 11782      | 19%        | \n",
       "| Second 25% | 10865      | 18%        | \n",
       "| Third 25%  | 15177      | 25%        | \n",
       "| Forth 25%  | 23643      | 38%        | \n",
       "\n",
       "\n"
      ],
      "text/plain": [
       "  Quantile   Total_Complaints Proportion\n",
       "1 Bottom 25% 11782            19%       \n",
       "2 Second 25% 10865            18%       \n",
       "3 Third 25%  15177            25%       \n",
       "4 Forth 25%  23643            38%       "
      ]
     },
     "metadata": {},
     "output_type": "display_data"
    }
   ],
   "source": [
    "median_income_c <- median_income\n",
    "median_income_c$Complaints <- top_s$Total_Complaints\n",
    "median_income_c$Quantile <- with(median_income_c, cut(income, \n",
    "                                breaks=quantile(income, probs=seq(0,1, by=0.25), na.rm=TRUE), \n",
    "                                include.lowest=TRUE, labels=c(\"Bottom 25%\",\"Second 25%\",\n",
    "                                                              \"Third 25%\",\"Forth 25%\")))\n",
    "median_income_c <- median_income_c %>% arrange(desc(income))\n",
    "quantile_comp <- median_income_c %>% group_by(Quantile) %>% summarise(Total_Complaints = sum(Complaints)) %>%\n",
    "mutate(Proportion = paste0(round(Total_Complaints / sum(Total_Complaints) * 100), \"%\"))\n",
    "head(quantile_comp)"
   ]
  },
  {
   "cell_type": "code",
   "execution_count": 22,
   "metadata": {},
   "outputs": [
    {
     "data": {},
     "metadata": {},
     "output_type": "display_data"
    },
    {
     "data": {
      "image/png": "[encoded data removed]",
      "text/plain": [
       "plot without title"
      ]
     },
     "metadata": {},
     "output_type": "display_data"
    }
   ],
   "source": [
    "options(repr.plot.width = 6, repr.plot.height = 4)\n",
    "ggplot(quantile_comp, aes(Quantile, Total_Complaints, fill = as.factor(Quantile))) +\n",
    "  geom_bar(stat = 'identity') + scale_y_continuous(labels = comma) +\n",
    "  geom_text(aes(label = Proportion), size=3, position = position_dodge(0.9), vjust = -0.3) +\n",
    "  labs(fill = 'Median Household Income Quantile') + scale_x_discrete(\"Quartile\", labels = NULL) + \n",
    "  ggtitle(\"Mortgage or Credit Card Complaints in 2016 vs Median Household Income Quantiles\") +\n",
    "  theme_minimal() + \n",
    "  theme(axis.title.x = element_blank(), title = element_text(size = 6))"
   ]
  },
  {
   "cell_type": "markdown",
   "metadata": {},
   "source": [
    "### Conclusions"
   ]
  },
  {
   "cell_type": "markdown",
   "metadata": {},
   "source": [
    "    1. Analyzing the complaint description provided by the consumer, we found interesting words\n",
    "    related to Consumer's Financial scenario\n",
    "    \n",
    "    2. Most Frequent appearing words were\n",
    "        1. Credit\n",
    "        2. Account\n",
    "        3. Payment\n",
    "    \n",
    "    3. The rich states complain twice as much as the bottom quantile states about the Mortgage and\n",
    "    Credit Card services which make nearly 45% of the total complaints\n",
    "    \n",
    "    4. The analysis reveals evidence that the well - off, rich states in USA are more likely to submit\n",
    "    complain to CFPB. These type of consumers likely have more resources available to them and hence \n",
    "    have more problems that need solutions"
   ]
  }
 ],
 "metadata": {
  "kernelspec": {
   "display_name": "R",
   "language": "R",
   "name": "ir"
  },
  "language_info": {
   "codemirror_mode": "r",
   "file_extension": ".r",
   "mimetype": "text/x-r-source",
   "name": "R",
   "pygments_lexer": "r",
   "version": "3.4.3"
  }
 },
 "nbformat": 4,
 "nbformat_minor": 2
}
